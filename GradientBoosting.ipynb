{
 "cells": [
  {
   "cell_type": "code",
   "execution_count": 1,
   "metadata": {},
   "outputs": [],
   "source": [
    "#Classify Mushrooms as POISONOUS or NOT"
   ]
  },
  {
   "cell_type": "code",
   "execution_count": 2,
   "metadata": {},
   "outputs": [],
   "source": [
    "import numpy as np\n",
    "import pandas as pd\n",
    "from sklearn.preprocessing import LabelEncoder\n",
    "from sklearn.tree import DecisionTreeClassifier"
   ]
  },
  {
   "cell_type": "code",
   "execution_count": 3,
   "metadata": {},
   "outputs": [],
   "source": [
    "data = pd.read_csv('agaricus-lepiota.data')\n",
    "data.columns = ['target','cap-shape','cap-surface','cap-color','bruises','oder','gill-att','gill-space','gill-size','gill-color',\n",
    "               'stalk-shape','stalk-root','stalk-surface-above-ring','stalk-surface-below-ring','stalk-color-above-ring','stalk-color-below-ring','veil-type',\n",
    "               'veil-color','veilnumber','ring-type','spore-print-color','pop','habitat']"
   ]
  },
  {
   "cell_type": "code",
   "execution_count": 4,
   "metadata": {},
   "outputs": [
    {
     "name": "stdout",
     "output_type": "stream",
     "text": [
      "<class 'pandas.core.frame.DataFrame'>\n",
      "RangeIndex: 8123 entries, 0 to 8122\n",
      "Data columns (total 23 columns):\n",
      "target                      8123 non-null int32\n",
      "cap-shape                   8123 non-null int32\n",
      "cap-surface                 8123 non-null int32\n",
      "cap-color                   8123 non-null int32\n",
      "bruises                     8123 non-null int32\n",
      "oder                        8123 non-null int32\n",
      "gill-att                    8123 non-null int32\n",
      "gill-space                  8123 non-null int32\n",
      "gill-size                   8123 non-null int32\n",
      "gill-color                  8123 non-null int32\n",
      "stalk-shape                 8123 non-null int32\n",
      "stalk-root                  8123 non-null int32\n",
      "stalk-surface-above-ring    8123 non-null int32\n",
      "stalk-surface-below-ring    8123 non-null int32\n",
      "stalk-color-above-ring      8123 non-null int32\n",
      "stalk-color-below-ring      8123 non-null int32\n",
      "veil-type                   8123 non-null int32\n",
      "veil-color                  8123 non-null int32\n",
      "veilnumber                  8123 non-null int32\n",
      "ring-type                   8123 non-null int32\n",
      "spore-print-color           8123 non-null int32\n",
      "pop                         8123 non-null int32\n",
      "habitat                     8123 non-null int32\n",
      "dtypes: int32(23)\n",
      "memory usage: 729.9 KB\n",
      "None\n"
     ]
    }
   ],
   "source": [
    "for label in data.columns:\n",
    "    data[label] = LabelEncoder().fit(data[label]).transform(data[label])\n",
    "\n",
    "print(data.info())"
   ]
  },
  {
   "cell_type": "code",
   "execution_count": 5,
   "metadata": {},
   "outputs": [],
   "source": [
    "X = data.drop(['target'],axis=1)\n",
    "Y = data['target']"
   ]
  },
  {
   "cell_type": "code",
   "execution_count": 6,
   "metadata": {},
   "outputs": [],
   "source": [
    "from sklearn.model_selection import train_test_split\n",
    "x_train,x_test,y_train,y_test = train_test_split(X,Y,test_size=0.3)"
   ]
  },
  {
   "cell_type": "code",
   "execution_count": 7,
   "metadata": {},
   "outputs": [
    {
     "data": {
      "text/plain": [
       "GradientBoostingClassifier(criterion='friedman_mse', init=None,\n",
       "              learning_rate=0.5, loss='deviance', max_depth=3,\n",
       "              max_features=None, max_leaf_nodes=None,\n",
       "              min_impurity_decrease=0.0, min_impurity_split=None,\n",
       "              min_samples_leaf=1, min_samples_split=2,\n",
       "              min_weight_fraction_leaf=0.0, n_estimators=100,\n",
       "              n_iter_no_change=None, presort='auto', random_state=None,\n",
       "              subsample=1.0, tol=0.0001, validation_fraction=0.1,\n",
       "              verbose=0, warm_start=False)"
      ]
     },
     "execution_count": 7,
     "metadata": {},
     "output_type": "execute_result"
    }
   ],
   "source": [
    "from sklearn.ensemble import AdaBoostClassifier\n",
    "from sklearn.ensemble import GradientBoostingClassifier\n",
    "model = DecisionTreeClassifier(criterion='entropy',max_depth=1)\n",
    "#Adaboost = AdaBoostClassifier(base_estimator=model,n_estimators=400,learning_rate=1)\n",
    "Gradboost = GradientBoostingClassifier(n_estimators=100,learning_rate=0.5)\n",
    "#Adaboost.fit(x_train,y_train)\n",
    "Gradboost.fit(x_train,y_train)"
   ]
  },
  {
   "cell_type": "code",
   "execution_count": 8,
   "metadata": {},
   "outputs": [],
   "source": [
    "y_pred = Gradboost.predict(x_test)"
   ]
  },
  {
   "cell_type": "code",
   "execution_count": 9,
   "metadata": {},
   "outputs": [
    {
     "name": "stdout",
     "output_type": "stream",
     "text": [
      "Confusion Matrix \n",
      " [[1248    0]\n",
      " [   0 1189]]\n",
      "Accuracy Score 100%\n"
     ]
    }
   ],
   "source": [
    "from sklearn.metrics import accuracy_score,confusion_matrix\n",
    "cm = confusion_matrix(y_test,y_pred)\n",
    "print(\"Confusion Matrix \\n\",cm)\n",
    "print(\"Accuracy Score {:3.0f}%\".format(accuracy_score(y_test,y_pred)*100))"
   ]
  },
  {
   "cell_type": "code",
   "execution_count": null,
   "metadata": {},
   "outputs": [],
   "source": []
  }
 ],
 "metadata": {
  "kernelspec": {
   "display_name": "Python 3",
   "language": "python",
   "name": "python3"
  },
  "language_info": {
   "codemirror_mode": {
    "name": "ipython",
    "version": 3
   },
   "file_extension": ".py",
   "mimetype": "text/x-python",
   "name": "python",
   "nbconvert_exporter": "python",
   "pygments_lexer": "ipython3",
   "version": "3.7.3"
  }
 },
 "nbformat": 4,
 "nbformat_minor": 2
}
